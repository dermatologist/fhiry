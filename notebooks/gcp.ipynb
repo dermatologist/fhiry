{
 "cells": [
  {
   "cell_type": "code",
   "execution_count": 4,
   "metadata": {},
   "outputs": [
    {
     "name": "stdout",
     "output_type": "stream",
     "text": [
      "Copying gs://gcp-public-data--synthea-fhir-data-10-patients/fhir_r4_ndjson/AllergyIntolerance.ndjson...\n",
      "Copying gs://gcp-public-data--synthea-fhir-data-10-patients/fhir_r4_ndjson/CarePlan.ndjson...\n",
      "Copying gs://gcp-public-data--synthea-fhir-data-10-patients/fhir_r4_ndjson/Claim.ndjson...\n",
      "Copying gs://gcp-public-data--synthea-fhir-data-10-patients/fhir_r4_ndjson/Condition.ndjson...\n",
      "/ [4 files][576.1 KiB/576.1 KiB]                                                \n",
      "==> NOTE: You are performing a sequence of gsutil operations that may\n",
      "run significantly faster if you instead use gsutil -m cp ... Please\n",
      "see the -m section under \"gsutil help options\" for further information\n",
      "about when gsutil -m can be advantageous.\n",
      "\n",
      "Copying gs://gcp-public-data--synthea-fhir-data-10-patients/fhir_r4_ndjson/DiagnosticReport.ndjson...\n",
      "Copying gs://gcp-public-data--synthea-fhir-data-10-patients/fhir_r4_ndjson/Encounter.ndjson...\n",
      "Copying gs://gcp-public-data--synthea-fhir-data-10-patients/fhir_r4_ndjson/ExplanationOfBenefit.ndjson...\n",
      "Copying gs://gcp-public-data--synthea-fhir-data-10-patients/fhir_r4_ndjson/Goal.ndjson...\n",
      "Copying gs://gcp-public-data--synthea-fhir-data-10-patients/fhir_r4_ndjson/ImagingStudy.ndjson...\n",
      "Copying gs://gcp-public-data--synthea-fhir-data-10-patients/fhir_r4_ndjson/Immunization.ndjson...\n",
      "Copying gs://gcp-public-data--synthea-fhir-data-10-patients/fhir_r4_ndjson/MedicationRequest.ndjson...\n",
      "Copying gs://gcp-public-data--synthea-fhir-data-10-patients/fhir_r4_ndjson/Observation.ndjson...\n",
      "Copying gs://gcp-public-data--synthea-fhir-data-10-patients/fhir_r4_ndjson/Organization.ndjson...\n",
      "Copying gs://gcp-public-data--synthea-fhir-data-10-patients/fhir_r4_ndjson/Patient.ndjson...\n",
      "Copying gs://gcp-public-data--synthea-fhir-data-10-patients/fhir_r4_ndjson/Practitioner.ndjson...\n",
      "Copying gs://gcp-public-data--synthea-fhir-data-10-patients/fhir_r4_ndjson/Procedure.ndjson...\n",
      "\\ [16 files][  3.9 MiB/  3.9 MiB]                                               \n",
      "Operation completed over 16 objects/3.9 MiB.                                     \n"
     ]
    }
   ],
   "source": [
    "!gsutil cp gs://gcp-public-data--synthea-fhir-data-10-patients/fhir_r4_ndjson/*.ndjson fhirdata"
   ]
  },
  {
   "cell_type": "code",
   "execution_count": 1,
   "metadata": {},
   "outputs": [],
   "source": [
    "import matplotlib.pyplot as plt\n",
    "import fhiry.parallel as fp\n",
    "import os\n",
    "%matplotlib inline\n"
   ]
  },
  {
   "cell_type": "code",
   "execution_count": 7,
   "metadata": {},
   "outputs": [
    {
     "name": "stderr",
     "output_type": "stream",
     "text": [
      "100%|██████████| 1024/1024 [00:04<00:00, 222.19it/s]\n"
     ]
    },
    {
     "name": "stdout",
     "output_type": "stream",
     "text": [
      "<class 'pandas.core.frame.DataFrame'>\n",
      "Int64Index: 1024 entries, 0 to 0\n",
      "Data columns (total 18 columns):\n",
      " #   Column                            Non-Null Count  Dtype  \n",
      "---  ------                            --------------  -----  \n",
      " 0   resourceType                      1024 non-null   object \n",
      " 1   resource_id                       1024 non-null   object \n",
      " 2   status                            1024 non-null   object \n",
      " 3   category                          1024 non-null   object \n",
      " 4   effectiveDateTime                 1024 non-null   object \n",
      " 5   code.text                         1024 non-null   object \n",
      " 6   subject.reference                 1024 non-null   object \n",
      " 7   encounter.reference               1024 non-null   object \n",
      " 8   valueQuantity.value               806 non-null    float64\n",
      " 9   valueQuantity.unit                806 non-null    object \n",
      " 10  valueQuantity.system              806 non-null    object \n",
      " 11  valueQuantity.code                806 non-null    object \n",
      " 12  code.codingcodes                  1024 non-null   object \n",
      " 13  patientId                         1024 non-null   object \n",
      " 14  component                         103 non-null    object \n",
      " 15  valueCodeableConcept.text         105 non-null    object \n",
      " 16  valueCodeableConcept.codingcodes  105 non-null    object \n",
      " 17  valueString                       10 non-null     object \n",
      "dtypes: float64(1), object(17)\n",
      "memory usage: 152.0+ KB\n",
      "None\n"
     ]
    }
   ],
   "source": [
    "df = fp.ndjson(os.getcwd() + \"/fhirdata/Observation.ndjson\",\n",
    "               '{\"REMOVE\": [\"issued\", \"meta.profile\"], \"RENAME\": {\"id\": \"resource_id\"}}')\n",
    "print(df.info())\n"
   ]
  },
  {
   "cell_type": "code",
   "execution_count": 8,
   "metadata": {},
   "outputs": [
    {
     "name": "stdout",
     "output_type": "stream",
     "text": [
      "Index(['resourceType', 'resource_id', 'status', 'category',\n",
      "       'effectiveDateTime', 'code.text', 'subject.reference',\n",
      "       'encounter.reference', 'valueQuantity.value', 'valueQuantity.unit',\n",
      "       'valueQuantity.system', 'valueQuantity.code', 'code.codingcodes',\n",
      "       'patientId', 'component', 'valueCodeableConcept.text',\n",
      "       'valueCodeableConcept.codingcodes', 'valueString'],\n",
      "      dtype='object')\n"
     ]
    }
   ],
   "source": [
    "print(df.columns)\n"
   ]
  },
  {
   "cell_type": "code",
   "execution_count": 9,
   "metadata": {},
   "outputs": [
    {
     "name": "stdout",
     "output_type": "stream",
     "text": [
      "0            NaN\n",
      "0            NaN\n",
      "0            NaN\n",
      "0            NaN\n",
      "0            NaN\n",
      "        ...     \n",
      "0            NaN\n",
      "0            NaN\n",
      "0            NaN\n",
      "0            NaN\n",
      "0    [266919005]\n",
      "Name: valueCodeableConcept.codingcodes, Length: 1024, dtype: object\n"
     ]
    }
   ],
   "source": [
    "print(df['valueCodeableConcept.codingcodes'])\n"
   ]
  },
  {
   "cell_type": "code",
   "execution_count": 10,
   "metadata": {},
   "outputs": [
    {
     "name": "stdout",
     "output_type": "stream",
     "text": [
      "0                                          Body Height\n",
      "0    Pain severity - 0-10 verbal numeric rating [Sc...\n",
      "0                                          Body Height\n",
      "0    Pain severity - 0-10 verbal numeric rating [Sc...\n",
      "0                                          Body Weight\n",
      "                           ...                        \n",
      "0                                    Total Cholesterol\n",
      "0                                        Triglycerides\n",
      "0                  Low Density Lipoprotein Cholesterol\n",
      "0                 High Density Lipoprotein Cholesterol\n",
      "0                          Tobacco smoking status NHIS\n",
      "Name: code.text, Length: 1024, dtype: object\n"
     ]
    }
   ],
   "source": [
    "print(df['code.text'])\n"
   ]
  },
  {
   "cell_type": "code",
   "execution_count": 11,
   "metadata": {},
   "outputs": [
    {
     "data": {
      "text/plain": [
       "<AxesSubplot:>"
      ]
     },
     "execution_count": 11,
     "metadata": {},
     "output_type": "execute_result"
    },
    {
     "data": {
      "image/png": "[encoded data removed]",
      "text/plain": [
       "<Figure size 640x480 with 1 Axes>"
      ]
     },
     "metadata": {},
     "output_type": "display_data"
    }
   ],
   "source": [
    "df['valueString'].value_counts().plot(kind='bar')\n"
   ]
  }
 ],
 "metadata": {
  "kernelspec": {
   "display_name": "rasa",
   "language": "python",
   "name": "python3"
  },
  "language_info": {
   "codemirror_mode": {
    "name": "ipython",
    "version": 3
   },
   "file_extension": ".py",
   "mimetype": "text/x-python",
   "name": "python",
   "nbconvert_exporter": "python",
   "pygments_lexer": "ipython3",
   "version": "3.8.10"
  },
  "orig_nbformat": 4
 },
 "nbformat": 4,
 "nbformat_minor": 2
}
